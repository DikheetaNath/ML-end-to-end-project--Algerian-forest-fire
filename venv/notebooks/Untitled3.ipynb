{
 "cells": [
  {
   "cell_type": "code",
   "execution_count": 1,
   "id": "c4a135d9-25e0-4dd2-b6fd-ac14ba017f35",
   "metadata": {},
   "outputs": [],
   "source": [
    "import pandas as pd\n",
    "import numpy as np\n",
    "import matplotlib.pyplot as plt\n",
    "import seaborn as sns\n",
    "%matplotlib inline"
   ]
  },
  {
   "cell_type": "code",
   "execution_count": 7,
   "id": "3ccea94d-f559-4278-a048-2245dc3c4b11",
   "metadata": {},
   "outputs": [
    {
     "data": {
      "text/html": [
       "<div>\n",
       "<style scoped>\n",
       "    .dataframe tbody tr th:only-of-type {\n",
       "        vertical-align: middle;\n",
       "    }\n",
       "\n",
       "    .dataframe tbody tr th {\n",
       "        vertical-align: top;\n",
       "    }\n",
       "\n",
       "    .dataframe thead th {\n",
       "        text-align: right;\n",
       "    }\n",
       "</style>\n",
       "<table border=\"1\" class=\"dataframe\">\n",
       "  <thead>\n",
       "    <tr style=\"text-align: right;\">\n",
       "      <th></th>\n",
       "      <th>Unnamed: 0</th>\n",
       "      <th>day</th>\n",
       "      <th>month</th>\n",
       "      <th>year</th>\n",
       "      <th>Temperature</th>\n",
       "      <th>RH</th>\n",
       "      <th>Ws</th>\n",
       "      <th>Rain</th>\n",
       "      <th>FFMC</th>\n",
       "      <th>DMC</th>\n",
       "      <th>DC</th>\n",
       "      <th>ISI</th>\n",
       "      <th>BUI</th>\n",
       "      <th>FWI</th>\n",
       "      <th>Classes</th>\n",
       "      <th>Region</th>\n",
       "    </tr>\n",
       "  </thead>\n",
       "  <tbody>\n",
       "    <tr>\n",
       "      <th>0</th>\n",
       "      <td>0</td>\n",
       "      <td>1</td>\n",
       "      <td>6</td>\n",
       "      <td>2012</td>\n",
       "      <td>29</td>\n",
       "      <td>57</td>\n",
       "      <td>18</td>\n",
       "      <td>0.0</td>\n",
       "      <td>65.7</td>\n",
       "      <td>3.4</td>\n",
       "      <td>7.6</td>\n",
       "      <td>1.3</td>\n",
       "      <td>3.4</td>\n",
       "      <td>0.5</td>\n",
       "      <td>0</td>\n",
       "      <td>0</td>\n",
       "    </tr>\n",
       "    <tr>\n",
       "      <th>1</th>\n",
       "      <td>1</td>\n",
       "      <td>2</td>\n",
       "      <td>6</td>\n",
       "      <td>2012</td>\n",
       "      <td>29</td>\n",
       "      <td>61</td>\n",
       "      <td>13</td>\n",
       "      <td>1.3</td>\n",
       "      <td>64.4</td>\n",
       "      <td>4.1</td>\n",
       "      <td>7.6</td>\n",
       "      <td>1.0</td>\n",
       "      <td>3.9</td>\n",
       "      <td>0.4</td>\n",
       "      <td>0</td>\n",
       "      <td>0</td>\n",
       "    </tr>\n",
       "    <tr>\n",
       "      <th>2</th>\n",
       "      <td>2</td>\n",
       "      <td>3</td>\n",
       "      <td>6</td>\n",
       "      <td>2012</td>\n",
       "      <td>26</td>\n",
       "      <td>82</td>\n",
       "      <td>22</td>\n",
       "      <td>13.1</td>\n",
       "      <td>47.1</td>\n",
       "      <td>2.5</td>\n",
       "      <td>7.1</td>\n",
       "      <td>0.3</td>\n",
       "      <td>2.7</td>\n",
       "      <td>0.1</td>\n",
       "      <td>0</td>\n",
       "      <td>0</td>\n",
       "    </tr>\n",
       "    <tr>\n",
       "      <th>3</th>\n",
       "      <td>3</td>\n",
       "      <td>4</td>\n",
       "      <td>6</td>\n",
       "      <td>2012</td>\n",
       "      <td>25</td>\n",
       "      <td>89</td>\n",
       "      <td>13</td>\n",
       "      <td>2.5</td>\n",
       "      <td>28.6</td>\n",
       "      <td>1.3</td>\n",
       "      <td>6.9</td>\n",
       "      <td>0.0</td>\n",
       "      <td>1.7</td>\n",
       "      <td>0.0</td>\n",
       "      <td>0</td>\n",
       "      <td>0</td>\n",
       "    </tr>\n",
       "    <tr>\n",
       "      <th>4</th>\n",
       "      <td>4</td>\n",
       "      <td>5</td>\n",
       "      <td>6</td>\n",
       "      <td>2012</td>\n",
       "      <td>27</td>\n",
       "      <td>77</td>\n",
       "      <td>16</td>\n",
       "      <td>0.0</td>\n",
       "      <td>64.8</td>\n",
       "      <td>3.0</td>\n",
       "      <td>14.2</td>\n",
       "      <td>1.2</td>\n",
       "      <td>3.9</td>\n",
       "      <td>0.5</td>\n",
       "      <td>0</td>\n",
       "      <td>0</td>\n",
       "    </tr>\n",
       "  </tbody>\n",
       "</table>\n",
       "</div>"
      ],
      "text/plain": [
       "   Unnamed: 0  day  month  year  Temperature  RH  Ws  Rain  FFMC  DMC    DC  \\\n",
       "0           0    1      6  2012           29  57  18   0.0  65.7  3.4   7.6   \n",
       "1           1    2      6  2012           29  61  13   1.3  64.4  4.1   7.6   \n",
       "2           2    3      6  2012           26  82  22  13.1  47.1  2.5   7.1   \n",
       "3           3    4      6  2012           25  89  13   2.5  28.6  1.3   6.9   \n",
       "4           4    5      6  2012           27  77  16   0.0  64.8  3.0  14.2   \n",
       "\n",
       "   ISI  BUI  FWI  Classes  Region  \n",
       "0  1.3  3.4  0.5        0       0  \n",
       "1  1.0  3.9  0.4        0       0  \n",
       "2  0.3  2.7  0.1        0       0  \n",
       "3  0.0  1.7  0.0        0       0  \n",
       "4  1.2  3.9  0.5        0       0  "
      ]
     },
     "execution_count": 7,
     "metadata": {},
     "output_type": "execute_result"
    }
   ],
   "source": [
    "df=pd.read_csv('Algerian_cleaned.csv')\n",
    "df.head()"
   ]
  },
  {
   "cell_type": "code",
   "execution_count": 5,
   "id": "ccb4bab6-5094-4113-a7ea-f4062df02462",
   "metadata": {},
   "outputs": [
    {
     "data": {
      "text/plain": [
       "Index(['Unnamed: 0', 'day', 'month', 'year', 'Temperature', 'RH', 'Ws', 'Rain',\n",
       "       'FFMC', 'DMC', 'DC', 'ISI', 'BUI', 'FWI', 'Classes', 'Region'],\n",
       "      dtype='object')"
      ]
     },
     "execution_count": 5,
     "metadata": {},
     "output_type": "execute_result"
    }
   ],
   "source": [
    "df.columns"
   ]
  },
  {
   "cell_type": "code",
   "execution_count": 8,
   "id": "0472b15a-1273-4320-9e14-a4b8d935a862",
   "metadata": {},
   "outputs": [],
   "source": [
    "df.drop(['Unnamed: 0','day','month','year'],axis=1,inplace=True)"
   ]
  },
  {
   "cell_type": "code",
   "execution_count": 9,
   "id": "f6b4a02e-61d3-444d-8121-49da6677ce83",
   "metadata": {},
   "outputs": [
    {
     "data": {
      "text/html": [
       "<div>\n",
       "<style scoped>\n",
       "    .dataframe tbody tr th:only-of-type {\n",
       "        vertical-align: middle;\n",
       "    }\n",
       "\n",
       "    .dataframe tbody tr th {\n",
       "        vertical-align: top;\n",
       "    }\n",
       "\n",
       "    .dataframe thead th {\n",
       "        text-align: right;\n",
       "    }\n",
       "</style>\n",
       "<table border=\"1\" class=\"dataframe\">\n",
       "  <thead>\n",
       "    <tr style=\"text-align: right;\">\n",
       "      <th></th>\n",
       "      <th>Temperature</th>\n",
       "      <th>RH</th>\n",
       "      <th>Ws</th>\n",
       "      <th>Rain</th>\n",
       "      <th>FFMC</th>\n",
       "      <th>DMC</th>\n",
       "      <th>DC</th>\n",
       "      <th>ISI</th>\n",
       "      <th>BUI</th>\n",
       "      <th>FWI</th>\n",
       "      <th>Classes</th>\n",
       "      <th>Region</th>\n",
       "    </tr>\n",
       "  </thead>\n",
       "  <tbody>\n",
       "    <tr>\n",
       "      <th>0</th>\n",
       "      <td>29</td>\n",
       "      <td>57</td>\n",
       "      <td>18</td>\n",
       "      <td>0.0</td>\n",
       "      <td>65.7</td>\n",
       "      <td>3.4</td>\n",
       "      <td>7.6</td>\n",
       "      <td>1.3</td>\n",
       "      <td>3.4</td>\n",
       "      <td>0.5</td>\n",
       "      <td>0</td>\n",
       "      <td>0</td>\n",
       "    </tr>\n",
       "    <tr>\n",
       "      <th>1</th>\n",
       "      <td>29</td>\n",
       "      <td>61</td>\n",
       "      <td>13</td>\n",
       "      <td>1.3</td>\n",
       "      <td>64.4</td>\n",
       "      <td>4.1</td>\n",
       "      <td>7.6</td>\n",
       "      <td>1.0</td>\n",
       "      <td>3.9</td>\n",
       "      <td>0.4</td>\n",
       "      <td>0</td>\n",
       "      <td>0</td>\n",
       "    </tr>\n",
       "    <tr>\n",
       "      <th>2</th>\n",
       "      <td>26</td>\n",
       "      <td>82</td>\n",
       "      <td>22</td>\n",
       "      <td>13.1</td>\n",
       "      <td>47.1</td>\n",
       "      <td>2.5</td>\n",
       "      <td>7.1</td>\n",
       "      <td>0.3</td>\n",
       "      <td>2.7</td>\n",
       "      <td>0.1</td>\n",
       "      <td>0</td>\n",
       "      <td>0</td>\n",
       "    </tr>\n",
       "    <tr>\n",
       "      <th>3</th>\n",
       "      <td>25</td>\n",
       "      <td>89</td>\n",
       "      <td>13</td>\n",
       "      <td>2.5</td>\n",
       "      <td>28.6</td>\n",
       "      <td>1.3</td>\n",
       "      <td>6.9</td>\n",
       "      <td>0.0</td>\n",
       "      <td>1.7</td>\n",
       "      <td>0.0</td>\n",
       "      <td>0</td>\n",
       "      <td>0</td>\n",
       "    </tr>\n",
       "    <tr>\n",
       "      <th>4</th>\n",
       "      <td>27</td>\n",
       "      <td>77</td>\n",
       "      <td>16</td>\n",
       "      <td>0.0</td>\n",
       "      <td>64.8</td>\n",
       "      <td>3.0</td>\n",
       "      <td>14.2</td>\n",
       "      <td>1.2</td>\n",
       "      <td>3.9</td>\n",
       "      <td>0.5</td>\n",
       "      <td>0</td>\n",
       "      <td>0</td>\n",
       "    </tr>\n",
       "  </tbody>\n",
       "</table>\n",
       "</div>"
      ],
      "text/plain": [
       "   Temperature  RH  Ws  Rain  FFMC  DMC    DC  ISI  BUI  FWI  Classes  Region\n",
       "0           29  57  18   0.0  65.7  3.4   7.6  1.3  3.4  0.5        0       0\n",
       "1           29  61  13   1.3  64.4  4.1   7.6  1.0  3.9  0.4        0       0\n",
       "2           26  82  22  13.1  47.1  2.5   7.1  0.3  2.7  0.1        0       0\n",
       "3           25  89  13   2.5  28.6  1.3   6.9  0.0  1.7  0.0        0       0\n",
       "4           27  77  16   0.0  64.8  3.0  14.2  1.2  3.9  0.5        0       0"
      ]
     },
     "execution_count": 9,
     "metadata": {},
     "output_type": "execute_result"
    }
   ],
   "source": [
    "df.head()"
   ]
  },
  {
   "cell_type": "code",
   "execution_count": 10,
   "id": "e357d60a-582a-44fc-934e-17316ff53b5b",
   "metadata": {},
   "outputs": [],
   "source": [
    "## Features:\n",
    "x = df.drop('FWI',axis=1)\n",
    "y = df['FWI']"
   ]
  },
  {
   "cell_type": "code",
   "execution_count": 46,
   "id": "c6454d4f-e290-44d7-973b-79d103122c61",
   "metadata": {},
   "outputs": [],
   "source": [
    "from sklearn.model_selection import train_test_split\n",
    "x_train,x_test,y_train,y_test = train_test_split(x,y,test_size=0.25,random_state=42)"
   ]
  },
  {
   "cell_type": "code",
   "execution_count": 47,
   "id": "d1393c19-dfcb-40e4-bef8-379166fca92d",
   "metadata": {},
   "outputs": [
    {
     "data": {
      "text/plain": [
       "((182, 11), (61, 11))"
      ]
     },
     "execution_count": 47,
     "metadata": {},
     "output_type": "execute_result"
    }
   ],
   "source": [
    "x_train.shape,x_test.shape"
   ]
  },
  {
   "cell_type": "code",
   "execution_count": 48,
   "id": "805f9c2d-ca74-4de3-adb7-107efcc4bcd0",
   "metadata": {},
   "outputs": [],
   "source": [
    "def correlation(dataset,threshold):\n",
    "    col_corr = set()\n",
    "    corr_matrix = dataset.corr()\n",
    "    for i in range(len(corr_matrix.columns)):\n",
    "        for j in range(i):\n",
    "            if abs(corr_matrix.iloc[i,j]) > threshold:\n",
    "                colname =  corr_matrix.columns[i]\n",
    "                col_corr.add(colname)\n",
    "    return col_corr"
   ]
  },
  {
   "cell_type": "code",
   "execution_count": 49,
   "id": "27da0002-ded5-418c-8856-b88e8215eb00",
   "metadata": {},
   "outputs": [
    {
     "data": {
      "text/plain": [
       "{'BUI', 'DC'}"
      ]
     },
     "execution_count": 49,
     "metadata": {},
     "output_type": "execute_result"
    }
   ],
   "source": [
    "corr_features = correlation(x_train,0.85)\n",
    "corr_features"
   ]
  },
  {
   "cell_type": "code",
   "execution_count": 50,
   "id": "71a51982-aeb8-4da7-919d-b21d3c5df670",
   "metadata": {},
   "outputs": [],
   "source": [
    "x_train.drop(corr_features,axis=1,inplace=True)\n",
    "x_test.drop(corr_features,axis=1,inplace=True)"
   ]
  },
  {
   "cell_type": "markdown",
   "id": "b210e6db-c7a9-4ba6-8e27-aa263e295815",
   "metadata": {},
   "source": [
    "## Feature scaling"
   ]
  },
  {
   "cell_type": "code",
   "execution_count": 51,
   "id": "5d1fbe13-5767-443b-b850-1411478e857c",
   "metadata": {},
   "outputs": [],
   "source": [
    "from sklearn.preprocessing import StandardScaler\n",
    "scaler = StandardScaler()\n",
    "x_train_scaled=scaler.fit_transform(x_train)\n",
    "x_test_scaled=scaler.transform(x_test)"
   ]
  },
  {
   "cell_type": "code",
   "execution_count": 61,
   "id": "2e9781aa-ccfc-4394-bf62-21b7717329b5",
   "metadata": {},
   "outputs": [],
   "source": [
    "x_train_scaled=pd.DataFrame(x_train_scaled)"
   ]
  },
  {
   "cell_type": "code",
   "execution_count": 63,
   "id": "ba6b9d7c-b478-4eda-8781-a699d49b372b",
   "metadata": {},
   "outputs": [
    {
     "data": {
      "text/html": [
       "<div>\n",
       "<style scoped>\n",
       "    .dataframe tbody tr th:only-of-type {\n",
       "        vertical-align: middle;\n",
       "    }\n",
       "\n",
       "    .dataframe tbody tr th {\n",
       "        vertical-align: top;\n",
       "    }\n",
       "\n",
       "    .dataframe thead th {\n",
       "        text-align: right;\n",
       "    }\n",
       "</style>\n",
       "<table border=\"1\" class=\"dataframe\">\n",
       "  <thead>\n",
       "    <tr style=\"text-align: right;\">\n",
       "      <th></th>\n",
       "      <th>0</th>\n",
       "      <th>1</th>\n",
       "      <th>2</th>\n",
       "      <th>3</th>\n",
       "      <th>4</th>\n",
       "      <th>5</th>\n",
       "      <th>6</th>\n",
       "      <th>7</th>\n",
       "      <th>8</th>\n",
       "    </tr>\n",
       "  </thead>\n",
       "  <tbody>\n",
       "    <tr>\n",
       "      <th>0</th>\n",
       "      <td>-0.842842</td>\n",
       "      <td>0.783080</td>\n",
       "      <td>1.299720</td>\n",
       "      <td>-0.337274</td>\n",
       "      <td>-0.128056</td>\n",
       "      <td>-0.882729</td>\n",
       "      <td>-0.629633</td>\n",
       "      <td>-1.104315</td>\n",
       "      <td>-0.989071</td>\n",
       "    </tr>\n",
       "    <tr>\n",
       "      <th>1</th>\n",
       "      <td>-0.301758</td>\n",
       "      <td>0.649508</td>\n",
       "      <td>-0.598748</td>\n",
       "      <td>-0.290487</td>\n",
       "      <td>-1.217586</td>\n",
       "      <td>-0.866876</td>\n",
       "      <td>-0.930585</td>\n",
       "      <td>-1.104315</td>\n",
       "      <td>1.011050</td>\n",
       "    </tr>\n",
       "    <tr>\n",
       "      <th>2</th>\n",
       "      <td>2.133120</td>\n",
       "      <td>-2.088702</td>\n",
       "      <td>-0.219054</td>\n",
       "      <td>-0.384060</td>\n",
       "      <td>1.157031</td>\n",
       "      <td>0.615402</td>\n",
       "      <td>2.727139</td>\n",
       "      <td>0.905539</td>\n",
       "      <td>1.011050</td>\n",
       "    </tr>\n",
       "    <tr>\n",
       "      <th>3</th>\n",
       "      <td>-0.031216</td>\n",
       "      <td>-0.151919</td>\n",
       "      <td>0.920027</td>\n",
       "      <td>-0.243701</td>\n",
       "      <td>-0.037262</td>\n",
       "      <td>-0.272379</td>\n",
       "      <td>-0.606483</td>\n",
       "      <td>-1.104315</td>\n",
       "      <td>-0.989071</td>\n",
       "    </tr>\n",
       "    <tr>\n",
       "      <th>4</th>\n",
       "      <td>-0.031216</td>\n",
       "      <td>-1.020132</td>\n",
       "      <td>-0.598748</td>\n",
       "      <td>-0.056555</td>\n",
       "      <td>-0.009325</td>\n",
       "      <td>-0.605297</td>\n",
       "      <td>-0.699084</td>\n",
       "      <td>-1.104315</td>\n",
       "      <td>-0.989071</td>\n",
       "    </tr>\n",
       "  </tbody>\n",
       "</table>\n",
       "</div>"
      ],
      "text/plain": [
       "          0         1         2         3         4         5         6  \\\n",
       "0 -0.842842  0.783080  1.299720 -0.337274 -0.128056 -0.882729 -0.629633   \n",
       "1 -0.301758  0.649508 -0.598748 -0.290487 -1.217586 -0.866876 -0.930585   \n",
       "2  2.133120 -2.088702 -0.219054 -0.384060  1.157031  0.615402  2.727139   \n",
       "3 -0.031216 -0.151919  0.920027 -0.243701 -0.037262 -0.272379 -0.606483   \n",
       "4 -0.031216 -1.020132 -0.598748 -0.056555 -0.009325 -0.605297 -0.699084   \n",
       "\n",
       "          7         8  \n",
       "0 -1.104315 -0.989071  \n",
       "1 -1.104315  1.011050  \n",
       "2  0.905539  1.011050  \n",
       "3 -1.104315 -0.989071  \n",
       "4 -1.104315 -0.989071  "
      ]
     },
     "execution_count": 63,
     "metadata": {},
     "output_type": "execute_result"
    }
   ],
   "source": [
    "x_train_scaled.head()"
   ]
  },
  {
   "cell_type": "markdown",
   "id": "f235557e-8555-4f47-9c73-7bc2b4f18cd8",
   "metadata": {},
   "source": [
    "### Boxplots to understand effect of standard scaler"
   ]
  },
  {
   "cell_type": "code",
   "execution_count": 62,
   "id": "aab36ba7-b199-4f57-880d-bada40845dc3",
   "metadata": {},
   "outputs": [
    {
     "ename": "TypeError",
     "evalue": "boxplot() missing 1 required positional argument: 'x'",
     "output_type": "error",
     "traceback": [
      "\u001b[1;31m---------------------------------------------------------------------------\u001b[0m",
      "\u001b[1;31mTypeError\u001b[0m                                 Traceback (most recent call last)",
      "Cell \u001b[1;32mIn[62], line 8\u001b[0m\n\u001b[0;32m      5\u001b[0m plt\u001b[38;5;241m.\u001b[39mtitle(\u001b[38;5;124m'\u001b[39m\u001b[38;5;124mx_train before scaling\u001b[39m\u001b[38;5;124m'\u001b[39m)\n\u001b[0;32m      7\u001b[0m plt\u001b[38;5;241m.\u001b[39msubplot(\u001b[38;5;241m1\u001b[39m,\u001b[38;5;241m2\u001b[39m,\u001b[38;5;241m2\u001b[39m)\n\u001b[1;32m----> 8\u001b[0m plt\u001b[38;5;241m.\u001b[39mboxplot(data\u001b[38;5;241m=\u001b[39mx_train_scaled)\n\u001b[0;32m      9\u001b[0m plt\u001b[38;5;241m.\u001b[39mtitle(\u001b[38;5;124m'\u001b[39m\u001b[38;5;124mx_train after scaling\u001b[39m\u001b[38;5;124m'\u001b[39m)\n",
      "\u001b[1;31mTypeError\u001b[0m: boxplot() missing 1 required positional argument: 'x'"
     ]
    },
    {
     "data": {
      "image/png": "[encoded data removed]",
      "text/plain": [
       "<Figure size 1500x500 with 3 Axes>"
      ]
     },
     "metadata": {},
     "output_type": "display_data"
    }
   ],
   "source": [
    "plt.subplots(figsize=(15,5))\n",
    "\n",
    "plt.subplot(1,2,1)\n",
    "sns.boxplot(data=x_train)\n",
    "plt.title('x_train before scaling')\n",
    "\n",
    "plt.subplot(1,2,2)\n",
    "plt.boxplot(data=x_train_scaled)\n",
    "plt.title('x_train after scaling')"
   ]
  },
  {
   "cell_type": "markdown",
   "id": "02567d43-2c1b-441c-a0e5-c6a1b23ce0be",
   "metadata": {},
   "source": [
    "## Linear Regression model"
   ]
  },
  {
   "cell_type": "code",
   "execution_count": 78,
   "id": "4efb4a7a-ba56-4cc7-b024-b071eb1377d2",
   "metadata": {},
   "outputs": [],
   "source": [
    "from sklearn.linear_model import LinearRegression,Lasso,Ridge,ElasticNet\n",
    "from sklearn.metrics import mean_absolute_error,r2_score\n",
    "linreg= LinearRegression()"
   ]
  },
  {
   "cell_type": "code",
   "execution_count": 72,
   "id": "e5ed8569-861a-4573-bb55-0726f3a155bf",
   "metadata": {},
   "outputs": [],
   "source": [
    "linreg.fit(x_train_scaled,y_train)\n",
    "y_pred=linreg.predict(x_test_scaled)"
   ]
  },
  {
   "cell_type": "code",
   "execution_count": 73,
   "id": "1ce78ddc-163b-4bcc-b17e-312f2546199a",
   "metadata": {},
   "outputs": [
    {
     "data": {
      "text/plain": [
       "(0.5468236465249977, 0.9847657384266952)"
      ]
     },
     "execution_count": 73,
     "metadata": {},
     "output_type": "execute_result"
    }
   ],
   "source": [
    "mae=mean_absolute_error(y_test,y_pred)\n",
    "score=r2_score(y_test,y_pred)\n",
    "mae,score"
   ]
  },
  {
   "cell_type": "markdown",
   "id": "eecb955d-83e1-4b92-aa07-5e8dc25205a3",
   "metadata": {},
   "source": [
    "## Lasso Regression"
   ]
  },
  {
   "cell_type": "code",
   "execution_count": 75,
   "id": "e9696eb4-effc-4815-bb32-219a0f3759b9",
   "metadata": {},
   "outputs": [
    {
     "data": {
      "text/plain": [
       "(1.1331759949144087, 0.9492020263112388)"
      ]
     },
     "execution_count": 75,
     "metadata": {},
     "output_type": "execute_result"
    }
   ],
   "source": [
    "lasso=Lasso()\n",
    "lasso.fit(x_train_scaled,y_train)\n",
    "y_pred_lasso=lasso.predict(x_test_scaled)\n",
    "mae=mean_absolute_error(y_test,y_pred_lasso)\n",
    "score=r2_score(y_test,y_pred_lasso)\n",
    "mae,score"
   ]
  },
  {
   "cell_type": "code",
   "execution_count": 76,
   "id": "2ecf1912-0ffc-41a6-b9ee-2f091aa6a971",
   "metadata": {},
   "outputs": [
    {
     "data": {
      "text/plain": [
       "(0.5642305340105683, 0.9842993364555513)"
      ]
     },
     "execution_count": 76,
     "metadata": {},
     "output_type": "execute_result"
    }
   ],
   "source": [
    "ridge=Ridge()\n",
    "ridge.fit(x_train_scaled,y_train)\n",
    "y_pred_ridge=ridge.predict(x_test_scaled)\n",
    "mae=mean_absolute_error(y_test,y_pred_ridge)\n",
    "score=r2_score(y_test,y_pred_ridge)\n",
    "mae,score"
   ]
  },
  {
   "cell_type": "code",
   "execution_count": 79,
   "id": "1a8f501c-0e5e-4086-8d90-1d96a1faa64d",
   "metadata": {},
   "outputs": [
    {
     "data": {
      "text/plain": [
       "(1.8822353634896, 0.8753460589519703)"
      ]
     },
     "execution_count": 79,
     "metadata": {},
     "output_type": "execute_result"
    }
   ],
   "source": [
    "elastic=ElasticNet()\n",
    "elastic.fit(x_train_scaled,y_train)\n",
    "y_pred_el=elastic.predict(x_test_scaled)\n",
    "mae=mean_absolute_error(y_test,y_pred_el)\n",
    "score=r2_score(y_test,y_pred_el)\n",
    "mae,score"
   ]
  },
  {
   "cell_type": "markdown",
   "id": "7c47ef4c-f215-48fa-bbbd-a7d069215d61",
   "metadata": {},
   "source": [
    "## Pickling"
   ]
  },
  {
   "cell_type": "code",
   "execution_count": 80,
   "id": "411e4754-8e7d-497f-ac1c-7862394d17be",
   "metadata": {},
   "outputs": [],
   "source": [
    "import pickle\n",
    "pickle.dump(scaler,open('scaler.pkl','wb'))\n",
    "pickle.dump(ridge,open('ridge.pkl','wb'))"
   ]
  },
  {
   "cell_type": "markdown",
   "id": "d19f33c5-6df7-4b62-8322-fb710f6d9018",
   "metadata": {},
   "source": [
    "Ridge is used for pickling as it has the highest r2 score thus implying highest accuracy but linear model wasn't chosen as it has a high chnace of overfiiting which is by default eliminated in the case of Ridge"
   ]
  }
 ],
 "metadata": {
  "kernelspec": {
   "display_name": "Python 3 (ipykernel)",
   "language": "python",
   "name": "python3"
  },
  "language_info": {
   "codemirror_mode": {
    "name": "ipython",
    "version": 3
   },
   "file_extension": ".py",
   "mimetype": "text/x-python",
   "name": "python",
   "nbconvert_exporter": "python",
   "pygments_lexer": "ipython3",
   "version": "3.11.5"
  }
 },
 "nbformat": 4,
 "nbformat_minor": 5
}
